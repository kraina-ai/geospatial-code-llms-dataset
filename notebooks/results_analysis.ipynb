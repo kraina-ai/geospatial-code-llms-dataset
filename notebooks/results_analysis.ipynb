{
 "cells": [
  {
   "cell_type": "code",
   "execution_count": null,
   "metadata": {},
   "outputs": [],
   "source": [
    "from settings import RESULTS_DIR\n",
    "import pandas as pd\n",
    "from test_cases import test_cases"
   ]
  },
  {
   "cell_type": "code",
   "execution_count": null,
   "metadata": {},
   "outputs": [],
   "source": [
    "RESULTS_FILE = RESULTS_DIR / \"run_all_v2\" / \"tests.json\""
   ]
  },
  {
   "cell_type": "code",
   "execution_count": null,
   "metadata": {},
   "outputs": [],
   "source": [
    "df = pd.read_json(RESULTS_FILE, orient='index')"
   ]
  },
  {
   "cell_type": "code",
   "execution_count": null,
   "metadata": {},
   "outputs": [],
   "source": [
    "results_cols = [col for col in df.columns if 'results' in col]\n",
    "\n",
    "df[\"flat_results\"] = df[results_cols].apply(lambda x: sum(x, []), axis=1)"
   ]
  },
  {
   "cell_type": "code",
   "execution_count": null,
   "metadata": {},
   "outputs": [],
   "source": [
    "df[\"accuracy\"] = df[\"flat_results\"].apply(lambda x: x.count(True) / len(x))"
   ]
  },
  {
   "cell_type": "code",
   "execution_count": null,
   "metadata": {},
   "outputs": [],
   "source": [
    "for res_col in results_cols:\n",
    "    df[f\"{res_col}_passed_ratio\"] = df[res_col].apply(lambda x: x.count(True) / len(x))"
   ]
  },
  {
   "cell_type": "code",
   "execution_count": null,
   "metadata": {},
   "outputs": [],
   "source": [
    "for res_col in results_cols:\n",
    "    df[f\"{res_col}_all\"] = df[f\"{res_col}_passed_ratio\"] == 1\n",
    "    df[f\"{res_col}_any\"] = df[f\"{res_col}_passed_ratio\"] > 0"
   ]
  },
  {
   "cell_type": "code",
   "execution_count": null,
   "metadata": {},
   "outputs": [],
   "source": [
    "i = \"12.1.1\"\n",
    "df[[f\"{i}_results\", f\"{i}_results_passed_ratio\", f\"{i}_results_all\", f\"{i}_results_any\"]]"
   ]
  },
  {
   "cell_type": "code",
   "execution_count": null,
   "metadata": {},
   "outputs": [],
   "source": [
    "full_results_tab_data = {}\n",
    "full_results_tab_data[\"accuracy\"] = df[\"accuracy\"]\n",
    "full_results_tab_data[\"pass@1\"] = df[[f\"{id}_all\" for id in results_cols]].apply(sum, axis=1) / len(test_cases)\n",
    "full_results_tab_data[\"pass_any@1\"] = df[[f\"{id}_any\" for id in results_cols]].apply(sum, axis=1) / len(test_cases)\n",
    "\n",
    "full_results_tab = pd.DataFrame(full_results_tab_data)\n",
    "print(full_results_tab.map(\"{:.2%}\".format).to_latex(escape=True))"
   ]
  },
  {
   "cell_type": "code",
   "execution_count": null,
   "metadata": {},
   "outputs": [],
   "source": [
    "full_results_tab_data(df[[f\"{id}_all\" for id in results_cols]].apply(sum, axis=1) / len(test_cases)).map(\"{:.2%}\".format)"
   ]
  },
  {
   "cell_type": "code",
   "execution_count": null,
   "metadata": {},
   "outputs": [],
   "source": [
    "(df[[f\"{id}_any\" for id in results_cols]].apply(sum, axis=1) / len(test_cases)).map(\"{:.2%}\".format)"
   ]
  },
  {
   "cell_type": "code",
   "execution_count": null,
   "metadata": {},
   "outputs": [],
   "source": [
    "df[\"accuracy\"].map(\"{:.2%}\".format)"
   ]
  },
  {
   "cell_type": "markdown",
   "metadata": {},
   "source": [
    "Results by dimensions"
   ]
  },
  {
   "cell_type": "code",
   "execution_count": null,
   "metadata": {},
   "outputs": [],
   "source": [
    "cases_df = pd.DataFrame(test_cases).set_index(\"id\")"
   ]
  },
  {
   "cell_type": "code",
   "execution_count": null,
   "metadata": {},
   "outputs": [],
   "source": [
    "cols_to_consider = [\"framing\", \"type\", \"input\", \"point\", \"tool\"]\n",
    "\n",
    "per_dimension_stats = {}\n",
    "\n",
    "for col in cols_to_consider:\n",
    "    col_values = cases_df[cases_df[col].notna()][col].unique()\n",
    "    for col_value in col_values:\n",
    "        cases_to_use = cases_df[cases_df[col] == col_value]\n",
    "        name = f\"{col}_{col_value}\"\n",
    "        results = df[[f\"{id}_results_all\" for id in cases_to_use.index]].apply(sum, axis=1) / len(cases_to_use)\n",
    "        per_dimension_stats[name] = results"
   ]
  },
  {
   "cell_type": "code",
   "execution_count": null,
   "metadata": {},
   "outputs": [],
   "source": [
    "dimentions_results = pd.DataFrame(per_dimension_stats)"
   ]
  },
  {
   "cell_type": "code",
   "execution_count": null,
   "metadata": {},
   "outputs": [],
   "source": [
    "dimentions_results"
   ]
  },
  {
   "cell_type": "code",
   "execution_count": null,
   "metadata": {},
   "outputs": [],
   "source": [
    "for col in cols_to_consider:\n",
    "    print(dimentions_results[[c for c in dimentions_results.columns if col in c]].rename(columns=lambda x: x.replace(f\"{col}_\", \"\")).map(\"{:.2%}\".format).to_latex(escape=True))"
   ]
  }
 ],
 "metadata": {
  "kernelspec": {
   "display_name": ".venv",
   "language": "python",
   "name": "python3"
  },
  "language_info": {
   "codemirror_mode": {
    "name": "ipython",
    "version": 3
   },
   "file_extension": ".py",
   "mimetype": "text/x-python",
   "name": "python",
   "nbconvert_exporter": "python",
   "pygments_lexer": "ipython3",
   "version": "3.9.16"
  }
 },
 "nbformat": 4,
 "nbformat_minor": 2
}
